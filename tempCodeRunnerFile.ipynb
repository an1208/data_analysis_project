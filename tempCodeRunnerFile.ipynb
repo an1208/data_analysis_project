fig = px.histogram(shop , y = 'Age' , x = 'Age_category')
pio.write_image(fig, "plotly_histogram.png")
fig.show()